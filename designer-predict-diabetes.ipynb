{
  "nbformat": 4,
  "nbformat_minor": 0,
  "metadata": {
    "colab": {
      "name": "Untitled5.ipynb",
      "provenance": [],
      "toc_visible": true,
      "authorship_tag": "ABX9TyNZu7eLnp+WPNq+L18UaNK1",
      "include_colab_link": true
    },
    "kernelspec": {
      "name": "python3",
      "display_name": "Python 3"
    },
    "language_info": {
      "name": "python"
    }
  },
  "cells": [
    {
      "cell_type": "markdown",
      "metadata": {
        "id": "view-in-github",
        "colab_type": "text"
      },
      "source": [
        "<a href=\"https://colab.research.google.com/github/MavrellousG/Azure_ML_DFE/blob/main/designer-predict-diabetes.ipynb\" target=\"_parent\"><img src=\"https://colab.research.google.com/assets/colab-badge.svg\" alt=\"Open In Colab\"/></a>"
      ]
    },
    {
      "cell_type": "code",
      "metadata": {
        "colab": {
          "base_uri": "https://localhost:8080/"
        },
        "id": "eVd9aac60Hqu",
        "outputId": "11ecc1ea-c31b-42a5-cadf-eaa1d1cfb80b"
      },
      "source": [
        "import urllib.request\n",
        "import json\n",
        "import os\n",
        "import ssl\n",
        "\n",
        "def allowSelfSignedHttps(allowed):\n",
        "    # bypass the server certificate verification on client side\n",
        "    if allowed and not os.environ.get('PYTHONHTTPSVERIFY', '') and getattr(ssl, '_create_unverified_context', None):\n",
        "        ssl._create_default_https_context = ssl._create_unverified_context\n",
        "\n",
        "allowSelfSignedHttps(True) # this line is needed if you use self-signed certificate in your scoring service.\n",
        "\n",
        "# Request data goes here\n",
        "data = {\n",
        "    \"Inputs\": {\n",
        "        \"WebServiceInput0\":\n",
        "        [\n",
        "            {\n",
        "                'PatientID': \"1882185\",\n",
        "                'Pregnancies': \"9\",\n",
        "                'PlasmaGlucose': \"104\",\n",
        "                'DiastolicBloodPressure': \"51\",\n",
        "                'TricepsThickness': \"7\",\n",
        "                'SerumInsulin': \"24\",\n",
        "                'BMI': \"27.36983156\",\n",
        "                'DiabetesPedigree': \"1.3504720469999998\",\n",
        "                'Age': \"43\",\n",
        "            },\n",
        "        ],\n",
        "    },\n",
        "    \"GlobalParameters\": {\n",
        "    }\n",
        "}\n",
        "\n",
        "body = str.encode(json.dumps(data))\n",
        "\n",
        "url = 'http://a9c5017c-b4fd-48b0-b443-a3497c6a53f9.eastus2.azurecontainer.io/score'\n",
        "api_key = 'BgX544fTHVEV4BXDMcJzclDSoyysyXca' # Replace this with the API key for the web service\n",
        "headers = {'Content-Type':'application/json', 'Authorization':('Bearer '+ api_key)}\n",
        "\n",
        "req = urllib.request.Request(url, body, headers)\n",
        "\n",
        "try:\n",
        "    response = urllib.request.urlopen(req)\n",
        "\n",
        "    result = response.read()\n",
        "    print(result)\n",
        "except urllib.error.HTTPError as error:\n",
        "    print(\"The request failed with status code: \" + str(error.code))\n",
        "\n",
        "    # Print the headers - they include the requert ID and the timestamp, which are useful for debugging the failure\n",
        "    print(error.info())\n",
        "    print(json.loads(error.read().decode(\"utf8\", 'ignore')))"
      ],
      "execution_count": 1,
      "outputs": [
        {
          "output_type": "stream",
          "name": "stdout",
          "text": [
            "b'{\"Results\": {\"WebServiceOutput0\": [{\"PatientID\": 1882185.0, \"DiabetesPrediction\": 1.0, \"Probability\": 0.7034111544417705}]}}'\n"
          ]
        }
      ]
    }
  ]
}