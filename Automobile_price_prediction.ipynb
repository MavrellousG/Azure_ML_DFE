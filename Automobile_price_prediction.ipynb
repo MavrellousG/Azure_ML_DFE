{
  "nbformat": 4,
  "nbformat_minor": 0,
  "metadata": {
    "colab": {
      "name": "Automobile price prediction.ipynb",
      "provenance": [],
      "toc_visible": true,
      "authorship_tag": "ABX9TyOZKHBd1vjVyPM44utAz19a",
      "include_colab_link": true
    },
    "kernelspec": {
      "name": "python3",
      "display_name": "Python 3"
    },
    "language_info": {
      "name": "python"
    }
  },
  "cells": [
    {
      "cell_type": "markdown",
      "metadata": {
        "id": "view-in-github",
        "colab_type": "text"
      },
      "source": [
        "<a href=\"https://colab.research.google.com/github/MavrellousG/Azure_ML_DFE/blob/main/Automobile_price_prediction.ipynb\" target=\"_parent\"><img src=\"https://colab.research.google.com/assets/colab-badge.svg\" alt=\"Open In Colab\"/></a>"
      ]
    },
    {
      "cell_type": "code",
      "metadata": {
        "colab": {
          "base_uri": "https://localhost:8080/"
        },
        "id": "f4dfGFunIGA0",
        "outputId": "dd6ffe7b-b8b8-436c-ce8e-28500875d0fe"
      },
      "source": [
        "import urllib.request\n",
        "import json\n",
        "import os\n",
        "import ssl\n",
        "\n",
        "def allowSelfSignedHttps(allowed):\n",
        "    # bypass the server certificate verification on client side\n",
        "    if allowed and not os.environ.get('PYTHONHTTPSVERIFY', '') and getattr(ssl, '_create_unverified_context', None):\n",
        "        ssl._create_default_https_context = ssl._create_unverified_context\n",
        "\n",
        "allowSelfSignedHttps(True) # this line is needed if you use self-signed certificate in your scoring service.\n",
        "\n",
        "# Request data goes here\n",
        "data = {\n",
        "    \"Inputs\": {\n",
        "        \"WebServiceInput0\":\n",
        "        [\n",
        "            {\n",
        "                'symboling': \"3\",\n",
        "                'normalized-losses': \"1\",\n",
        "                'make': \"alfa-romero\",\n",
        "                'fuel-type': \"gas\",\n",
        "                'aspiration': \"std\",\n",
        "                'num-of-doors': \"two\",\n",
        "                'body-style': \"convertible\",\n",
        "                'drive-wheels': \"rwd\",\n",
        "                'engine-location': \"front\",\n",
        "                'wheel-base': \"88.6\",\n",
        "                'length': \"168.8\",\n",
        "                'width': \"64.1\",\n",
        "                'height': \"48.8\",\n",
        "                'curb-weight': \"2548\",\n",
        "                'engine-type': \"dohc\",\n",
        "                'num-of-cylinders': \"four\",\n",
        "                'engine-size': \"130\",\n",
        "                'fuel-system': \"mpfi\",\n",
        "                'bore': \"3.47\",\n",
        "                'stroke': \"2.68\",\n",
        "                'compression-ratio': \"9\",\n",
        "                'horsepower': \"111\",\n",
        "                'peak-rpm': \"5000\",\n",
        "                'city-mpg': \"21\",\n",
        "                'highway-mpg': \"27\",\n",
        "                'price': \"13495\",\n",
        "            },\n",
        "        ],\n",
        "    },\n",
        "    \"GlobalParameters\": {\n",
        "    }\n",
        "}\n",
        "\n",
        "body = str.encode(json.dumps(data))\n",
        "\n",
        "url = 'http://52.177.30.58:80/api/v1/service/car8prediction/score'\n",
        "api_key = 'HYy5hMF0p86YqAARswofgBq0H7VDXSfh' # Replace this with the API key for the web service\n",
        "headers = {'Content-Type':'application/json', 'Authorization':('Bearer '+ api_key)}\n",
        "\n",
        "req = urllib.request.Request(url, body, headers)\n",
        "\n",
        "try:\n",
        "    response = urllib.request.urlopen(req)\n",
        "\n",
        "    result = response.read()\n",
        "    print(result)\n",
        "except urllib.error.HTTPError as error:\n",
        "    print(\"The request failed with status code: \" + str(error.code))\n",
        "\n",
        "    # Print the headers - they include the requert ID and the timestamp, which are useful for debugging the failure\n",
        "    print(error.info())\n",
        "    print(json.loads(error.read().decode(\"utf8\", 'ignore')))\n"
      ],
      "execution_count": 1,
      "outputs": [
        {
          "output_type": "stream",
          "name": "stdout",
          "text": [
            "b'{\"Results\": {\"WebServiceOutput0\": [{\"symboling\": 3, \"make\": \"alfa-romero\", \"fuel-type\": \"gas\", \"aspiration\": \"std\", \"num-of-doors\": \"two\", \"body-style\": \"convertible\", \"drive-wheels\": \"rwd\", \"engine-location\": \"front\", \"wheel-base\": 88.6, \"length\": 168.8, \"width\": 64.1, \"height\": 48.8, \"curb-weight\": 2548, \"engine-type\": \"dohc\", \"num-of-cylinders\": \"four\", \"engine-size\": 130, \"fuel-system\": \"mpfi\", \"bore\": 3.47, \"stroke\": 2.68, \"compression-ratio\": 9.0, \"horsepower\": 111.0, \"peak-rpm\": 5000.0, \"city-mpg\": 21, \"highway-mpg\": 27, \"price\": 13495.0, \"Scored Labels\": 13935.955705188942}]}}'\n"
          ]
        }
      ]
    }
  ]
}